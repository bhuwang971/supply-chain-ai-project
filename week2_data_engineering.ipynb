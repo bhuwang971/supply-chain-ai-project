{
 "cells": [
  {
   "cell_type": "code",
   "execution_count": 1,
   "id": "82608b67-b1fb-4b21-b042-424fd9d3546d",
   "metadata": {},
   "outputs": [
    {
     "name": "stdout",
     "output_type": "stream",
     "text": [
      "Loaded olist_orders_dataset.csv into orders table.\n",
      "Loaded olist_products_dataset.csv into products table.\n",
      "Loaded olist_sellers_dataset.csv into sellers table.\n",
      "Loaded product_category_name_translation.csv into product_category_translation table.\n",
      "Loaded olist_geolocation_dataset.csv into geolocation table.\n",
      "Loaded olist_order_items_dataset.csv into order_items table.\n",
      "Loaded olist_order_payments_dataset.csv into order_payments table.\n",
      "Loaded olist_order_reviews_dataset.csv into order_reviews table.\n",
      "Loaded olist_customers_dataset.csv into customers table.\n"
     ]
    }
   ],
   "source": [
    "import pandas as pd\n",
    "import sqlite3\n",
    "\n",
    "# Connect to SQLite database (creates olist.db if it doesn’t exist)\n",
    "conn = sqlite3.connect('olist.db')\n",
    "\n",
    "# Dictionary of CSV files and their corresponding table names\n",
    "datasets = {\n",
    "    'olist_orders_dataset.csv': 'orders',\n",
    "    'olist_products_dataset.csv': 'products',\n",
    "    'olist_sellers_dataset.csv': 'sellers',\n",
    "    'product_category_name_translation.csv': 'product_category_translation',\n",
    "    'olist_geolocation_dataset.csv': 'geolocation',\n",
    "    'olist_order_items_dataset.csv': 'order_items',\n",
    "    'olist_order_payments_dataset.csv': 'order_payments',\n",
    "    'olist_order_reviews_dataset.csv': 'order_reviews',\n",
    "    'olist_customers_dataset.csv': 'customers'\n",
    "}\n",
    "\n",
    "# Load each CSV into SQLite\n",
    "for csv_file, table_name in datasets.items():\n",
    "    df = pd.read_csv(csv_file)\n",
    "    df.to_sql(table_name, conn, if_exists='replace', index=False)\n",
    "    print(f\"Loaded {csv_file} into {table_name} table.\")\n",
    "\n",
    "# Close the connection\n",
    "conn.close()"
   ]
  },
  {
   "cell_type": "code",
   "execution_count": 2,
   "id": "eabe1707-e1b1-4c6b-bfa0-853c417ca68f",
   "metadata": {},
   "outputs": [],
   "source": [
    "conn = sqlite3.connect('olist.db')"
   ]
  },
  {
   "cell_type": "code",
   "execution_count": 3,
   "id": "a42601aa-a1af-4e0e-909a-c13f873a081a",
   "metadata": {},
   "outputs": [
    {
     "name": "stdout",
     "output_type": "stream",
     "text": [
      "Top 5 customers by total order value:\n",
      "                 customer_unique_id  total_spent\n",
      "0  0a0a92112bd4c708ca5fde585afaa872      13440.0\n",
      "1  da122df9eeddfedc1dc1f5349a1a690c       7388.0\n",
      "2  763c8b1c9c68a0229c42c9fc6f662b93       7160.0\n",
      "3  dc4802a71eae9be1dd28f5d788ceb526       6735.0\n",
      "4  459bef486812aa25204be022145caa62       6729.0\n"
     ]
    }
   ],
   "source": [
    "query1 = \"\"\"\n",
    "WITH customer_totals AS (\n",
    "    SELECT c.customer_unique_id, SUM(oi.price) AS total_spent\n",
    "    FROM customers c\n",
    "    JOIN orders o ON c.customer_id = o.customer_id\n",
    "    JOIN order_items oi ON o.order_id = oi.order_id\n",
    "    GROUP BY c.customer_unique_id\n",
    ")\n",
    "SELECT customer_unique_id, total_spent\n",
    "FROM customer_totals\n",
    "ORDER BY total_spent DESC\n",
    "LIMIT 5;\n",
    "\"\"\"\n",
    "print(\"Top 5 customers by total order value:\")\n",
    "print(pd.read_sql_query(query1, conn))"
   ]
  },
  {
   "cell_type": "code",
   "execution_count": 4,
   "id": "0ab41d20-41b1-4bb4-89d5-46ed6a3eef66",
   "metadata": {},
   "outputs": [
    {
     "name": "stdout",
     "output_type": "stream",
     "text": [
      "\n",
      "Monthly order growth:\n",
      "      month  order_count  prev_month_orders  order_growth\n",
      "0   2016-09            4                NaN           NaN\n",
      "1   2016-10          324                4.0         320.0\n",
      "2   2016-12            1              324.0        -323.0\n",
      "3   2017-01          800                1.0         799.0\n",
      "4   2017-02         1780              800.0         980.0\n",
      "5   2017-03         2682             1780.0         902.0\n",
      "6   2017-04         2404             2682.0        -278.0\n",
      "7   2017-05         3700             2404.0        1296.0\n",
      "8   2017-06         3245             3700.0        -455.0\n",
      "9   2017-07         4026             3245.0         781.0\n",
      "10  2017-08         4331             4026.0         305.0\n",
      "11  2017-09         4285             4331.0         -46.0\n",
      "12  2017-10         4631             4285.0         346.0\n",
      "13  2017-11         7544             4631.0        2913.0\n",
      "14  2017-12         5673             7544.0       -1871.0\n",
      "15  2018-01         7269             5673.0        1596.0\n",
      "16  2018-02         6728             7269.0        -541.0\n",
      "17  2018-03         7211             6728.0         483.0\n",
      "18  2018-04         6939             7211.0        -272.0\n",
      "19  2018-05         6873             6939.0         -66.0\n",
      "20  2018-06         6167             6873.0        -706.0\n",
      "21  2018-07         6292             6167.0         125.0\n",
      "22  2018-08         6512             6292.0         220.0\n",
      "23  2018-09           16             6512.0       -6496.0\n",
      "24  2018-10            4               16.0         -12.0\n"
     ]
    }
   ],
   "source": [
    "query2 = \"\"\"\n",
    "SELECT strftime('%Y-%m', order_purchase_timestamp) AS month,\n",
    "       COUNT(order_id) AS order_count,\n",
    "       LAG(COUNT(order_id), 1) OVER (ORDER BY strftime('%Y-%m', order_purchase_timestamp)) AS prev_month_orders,\n",
    "       (COUNT(order_id) - LAG(COUNT(order_id), 1) OVER (ORDER BY strftime('%Y-%m', order_purchase_timestamp))) AS order_growth\n",
    "FROM orders\n",
    "GROUP BY month\n",
    "ORDER BY month;\n",
    "\"\"\"\n",
    "print(\"\\nMonthly order growth:\")\n",
    "print(pd.read_sql_query(query2, conn))"
   ]
  },
  {
   "cell_type": "code",
   "execution_count": 5,
   "id": "291ad10e-c8a2-4a4d-99c7-2104a579f746",
   "metadata": {},
   "outputs": [
    {
     "name": "stdout",
     "output_type": "stream",
     "text": [
      "\n",
      "Average delivery time by seller state:\n",
      "   seller_state  avg_delivery_days\n",
      "0            AM          47.840802\n",
      "1            CE          17.885086\n",
      "2            MA          17.737843\n",
      "3            RO          17.411102\n",
      "4            MT          14.745550\n",
      "5            BA          13.845866\n",
      "6            PI          13.789200\n",
      "7            SC          13.569644\n",
      "8            PA          13.427086\n",
      "9            PR          13.383955\n",
      "10           RN          13.018111\n",
      "11           PE          12.912757\n",
      "12           ES          12.876498\n",
      "13           GO          12.827967\n",
      "14           MG          12.796998\n",
      "15           SE          12.702991\n",
      "16           DF          12.527214\n",
      "17           PB          12.522304\n",
      "18           MS          12.327364\n",
      "19           SP          12.277126\n",
      "20           RJ          12.014197\n",
      "21           RS          11.559426\n"
     ]
    }
   ],
   "source": [
    "query3 = \"\"\"\n",
    "SELECT s.seller_state,\n",
    "       AVG(julianday(o.order_delivered_customer_date) - julianday(o.order_purchase_timestamp)) AS avg_delivery_days\n",
    "FROM orders o\n",
    "JOIN order_items oi ON o.order_id = oi.order_id\n",
    "JOIN sellers s ON oi.seller_id = s.seller_id\n",
    "WHERE o.order_delivered_customer_date IS NOT NULL\n",
    "GROUP BY s.seller_state\n",
    "ORDER BY avg_delivery_days DESC;\n",
    "\"\"\"\n",
    "print(\"\\nAverage delivery time by seller state:\")\n",
    "print(pd.read_sql_query(query3, conn))"
   ]
  },
  {
   "cell_type": "code",
   "execution_count": 6,
   "id": "ca15bb36-9912-4b26-a123-be1b9e1bc4bc",
   "metadata": {},
   "outputs": [
    {
     "data": {
      "text/plain": [
       "<sqlite3.Cursor at 0x17bd425dc00>"
      ]
     },
     "execution_count": 6,
     "metadata": {},
     "output_type": "execute_result"
    }
   ],
   "source": [
    "conn.execute(\"UPDATE products SET product_category_name = 'Unknown' WHERE product_category_name IS NULL;\")"
   ]
  },
  {
   "cell_type": "code",
   "execution_count": 7,
   "id": "4adf35c9-b269-4b8c-8c00-1cbacf322583",
   "metadata": {},
   "outputs": [
    {
     "data": {
      "text/plain": [
       "<sqlite3.Cursor at 0x17bd425ddc0>"
      ]
     },
     "execution_count": 7,
     "metadata": {},
     "output_type": "execute_result"
    }
   ],
   "source": [
    "conn.execute(\"ALTER TABLE orders ADD COLUMN order_year TEXT;\")\n",
    "conn.execute(\"ALTER TABLE orders ADD COLUMN order_month TEXT;\")\n",
    "conn.execute(\"UPDATE orders SET order_year = strftime('%Y', order_purchase_timestamp), order_month = strftime('%m', order_purchase_timestamp);\")"
   ]
  },
  {
   "cell_type": "code",
   "execution_count": 8,
   "id": "72ff34cb-9cdb-4b46-b003-0e5904c4dbf9",
   "metadata": {},
   "outputs": [
    {
     "name": "stdout",
     "output_type": "stream",
     "text": [
      "                    customer_unique_id  COUNT(*)\n",
      "0     00172711b30d52eea8b313a7f2cced02         2\n",
      "1     004288347e5e88a27ded2bb23747066c         2\n",
      "2     004b45ec5c64187465168251cd1c9c2f         2\n",
      "3     0058f300f57d7b93c477a131a59b36c3         2\n",
      "4     00a39521eb40f7012db50455bf083460         2\n",
      "...                                ...       ...\n",
      "2992  ff36be26206fffe1eb37afd54c70e18b         3\n",
      "2993  ff44401d0d8f5b9c54a47374eb48c1b8         2\n",
      "2994  ff8892f7c26aa0446da53d01b18df463         2\n",
      "2995  ff922bdd6bafcdf99cb90d7f39cea5b3         3\n",
      "2996  ffe254cc039740e17dd15a5305035928         2\n",
      "\n",
      "[2997 rows x 2 columns]\n"
     ]
    }
   ],
   "source": [
    "query4 = \"SELECT customer_unique_id, COUNT(*) FROM customers GROUP BY customer_unique_id HAVING COUNT(*) > 1;\"\n",
    "print(pd.read_sql_query(query4, conn))"
   ]
  },
  {
   "cell_type": "code",
   "execution_count": 9,
   "id": "bebc5d41-5b9d-4fa0-84c1-0fd309f4b2bc",
   "metadata": {},
   "outputs": [
    {
     "data": {
      "text/plain": [
       "<sqlite3.Cursor at 0x17bd5c0b9d0>"
      ]
     },
     "execution_count": 9,
     "metadata": {},
     "output_type": "execute_result"
    }
   ],
   "source": [
    "conn.execute(\"\"\"\n",
    "DELETE FROM customers\n",
    "WHERE rowid NOT IN (\n",
    "    SELECT MIN(rowid) FROM customers GROUP BY customer_unique_id\n",
    ");\n",
    "\"\"\")"
   ]
  },
  {
   "cell_type": "code",
   "execution_count": null,
   "id": "2681acf9-44b6-4e20-9970-9a1fe95331b1",
   "metadata": {},
   "outputs": [],
   "source": []
  }
 ],
 "metadata": {
  "kernelspec": {
   "display_name": "Python 3 (ipykernel)",
   "language": "python",
   "name": "python3"
  },
  "language_info": {
   "codemirror_mode": {
    "name": "ipython",
    "version": 3
   },
   "file_extension": ".py",
   "mimetype": "text/x-python",
   "name": "python",
   "nbconvert_exporter": "python",
   "pygments_lexer": "ipython3",
   "version": "3.9.21"
  }
 },
 "nbformat": 4,
 "nbformat_minor": 5
}
